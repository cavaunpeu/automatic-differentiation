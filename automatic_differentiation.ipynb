{
 "cells": [
  {
   "cell_type": "markdown",
   "metadata": {},
   "source": [
    "## In this notebook, we implement a logistic regression model with a custom loss function. Our loss function is adopted from the traditional logarithmic loss. Its gradient is obtained via automatic differention using the [autograd](https://github.com/HIPS/autograd) package, which \"efficiently computes derivatives of numpy code.\""
   ]
  },
  {
   "cell_type": "code",
   "execution_count": null,
   "metadata": {
    "collapsed": true
   },
   "outputs": [],
   "source": [
    "%pylab inline\n",
    "\n",
    "import pandas as pd\n",
    "\n",
    "from autograd import grad\n",
    "import autograd.numpy as np"
   ]
  },
  {
   "cell_type": "markdown",
   "metadata": {
    "collapsed": true
   },
   "source": [
    "## Define X, y, initial weights, and epsilon"
   ]
  },
  {
   "cell_type": "code",
   "execution_count": 2,
   "metadata": {
    "collapsed": false
   },
   "outputs": [],
   "source": [
    "X = np.array([\n",
    "    [ 0.3213,  0.4856,  0.2995,  2.5044],\n",
    "    [ 0.3005,  0.4757,  0.2974,  2.4691],\n",
    "    [ 0.5638,  0.8005,  0.3381,  2.3102],\n",
    "    [ 0.5281,  0.6542,  0.3129,  2.1298],\n",
    "    [ 0.3221,  0.5126,  0.3085,  2.6147],\n",
    "    [ 0.3055,  0.4885,  0.289 ,  2.4957],\n",
    "    [ 0.3276,  0.5185,  0.3218,  2.6013],\n",
    "    [ 0.5313,  0.7028,  0.3266,  2.1543],\n",
    "    [ 0.4728,  0.6399,  0.3062,  2.0597],\n",
    "    [ 0.3221,  0.5126,  0.3085,  2.6147]\n",
    "])\n",
    "y = np.array([1., 1., 0., 0., 1., 1., 1., 1., 0., 0.])\n",
    "\n",
    "weights = np.zeros(X.shape[1])\n",
    "eps = 1e-15"
   ]
  },
  {
   "cell_type": "markdown",
   "metadata": {},
   "source": [
    "## Define our linear combinifier, bounded sigmoid, and custom loss function"
   ]
  },
  {
   "cell_type": "code",
   "execution_count": 3,
   "metadata": {
    "collapsed": false
   },
   "outputs": [],
   "source": [
    "def wTx(w, x):\n",
    "    return np.dot(x, w)\n",
    "\n",
    "def sigmoid(z):\n",
    "    return 1./(1+np.exp(-z))\n",
    "\n",
    "def logistic_predictions(w, x):\n",
    "    predictions = sigmoid(wTx(w, x))\n",
    "    return predictions.clip(eps, 1-eps)\n",
    "\n",
    "def custom_loss(y, y_predicted):\n",
    "    return -(y*np.log(y_predicted) - (1-y)*np.log(1-y_predicted)**2).mean()\n",
    "\n",
    "def custom_loss_given_weights(w):\n",
    "    y_predicted = logistic_predictions(w, X)\n",
    "    return custom_loss(y, y_predicted)\n",
    "    \n",
    "gradient = grad(custom_loss_given_weights)"
   ]
  },
  {
   "cell_type": "markdown",
   "metadata": {},
   "source": [
    "## Plot y_hat in [0, 1] vs. y=0 and y=1, given our custom loss function"
   ]
  },
  {
   "cell_type": "code",
   "execution_count": 14,
   "metadata": {
    "collapsed": false
   },
   "outputs": [
    {
     "data": {
      "image/png": "[encoded data removed]",
      "text/plain": [
       "<matplotlib.figure.Figure at 0x113e8af98>"
      ]
     },
     "metadata": {},
     "output_type": "display_data"
    }
   ],
   "source": [
    "df = pd.DataFrame(\n",
    "    [(y_hat, custom_loss(False, y_hat)) for y_hat in np.linspace(0, 1, 101)],\n",
    "    columns=['y_hat', 'loss']\n",
    ").plot(x='y_hat', title='y_hat vs. Loss for y=0')"
   ]
  },
  {
   "cell_type": "code",
   "execution_count": 15,
   "metadata": {
    "collapsed": false
   },
   "outputs": [
    {
     "data": {
      "image/png": "[encoded data removed]",
      "text/plain": [
       "<matplotlib.figure.Figure at 0x116c9f160>"
      ]
     },
     "metadata": {},
     "output_type": "display_data"
    }
   ],
   "source": [
    "df = pd.DataFrame(\n",
    "    [(y_hat, custom_loss(True, y_hat)) for y_hat in np.linspace(0, 1, 101)],\n",
    "    columns=['y_hat', 'loss']\n",
    ").plot(x='y_hat', title='y_hat vs. Loss for y=1')"
   ]
  },
  {
   "cell_type": "markdown",
   "metadata": {},
   "source": [
    "## Gradient descent"
   ]
  },
  {
   "cell_type": "code",
   "execution_count": 85,
   "metadata": {
    "collapsed": false
   },
   "outputs": [
    {
     "name": "stdout",
     "output_type": "stream",
     "text": [
      "Iteration 0    | Loss: 0.6081\n",
      "Iteration 1000 | Loss: 0.5716\n",
      "Iteration 2000 | Loss: 0.5478\n",
      "Iteration 3000 | Loss: 0.5315\n",
      "Iteration 4000 | Loss: 0.5202\n",
      "Iteration 5000 | Loss: 0.5122\n",
      "Iteration 6000 | Loss: 0.5065\n",
      "Iteration 7000 | Loss: 0.5024\n",
      "Iteration 8000 | Loss: 0.4994\n",
      "Iteration 9000 | Loss: 0.4972\n"
     ]
    }
   ],
   "source": [
    "for i in range(10000):\n",
    "    if i % 1000 == 0:\n",
    "        print('Iteration %-4d | Loss: %.4f' % (i, custom_loss_given_weights(weights)))\n",
    "    weights -= gradient(weights) * .01"
   ]
  }
 ],
 "metadata": {
  "kernelspec": {
   "display_name": "Python 3",
   "language": "python",
   "name": "python3"
  },
  "language_info": {
   "codemirror_mode": {
    "name": "ipython",
    "version": 3
   },
   "file_extension": ".py",
   "mimetype": "text/x-python",
   "name": "python",
   "nbconvert_exporter": "python",
   "pygments_lexer": "ipython3",
   "version": "3.4.3"
  }
 },
 "nbformat": 4,
 "nbformat_minor": 0
}
