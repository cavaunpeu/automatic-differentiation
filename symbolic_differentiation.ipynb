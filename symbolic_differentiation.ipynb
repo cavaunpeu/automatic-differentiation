{
 "cells": [
  {
   "cell_type": "code",
   "execution_count": 59,
   "metadata": {
    "collapsed": false
   },
   "outputs": [
    {
     "name": "stdout",
     "output_type": "stream",
     "text": [
      "Populating the interactive namespace from numpy and matplotlib\n"
     ]
    }
   ],
   "source": [
    "%pylab inline\n",
    "\n",
    "import pandas as pd\n",
    "\n",
    "from autograd import grad\n",
    "import autograd.numpy as np"
   ]
  },
  {
   "cell_type": "code",
   "execution_count": 289,
   "metadata": {
    "collapsed": false
   },
   "outputs": [],
   "source": [
    "X = np.array([\n",
    "    [ 0.3213,  0.4856,  0.2995,  2.5044],\n",
    "    [ 0.3005,  0.4757,  0.2974,  2.4691],\n",
    "    [ 0.5638,  0.8005,  0.3381,  2.3102],\n",
    "    [ 0.5281,  0.6542,  0.3129,  2.1298],\n",
    "    [ 0.3221,  0.5126,  0.3085,  2.6147],\n",
    "    [ 0.3055,  0.4885,  0.289 ,  2.4957],\n",
    "    [ 0.3276,  0.5185,  0.3218,  2.6013],\n",
    "    [ 0.5313,  0.7028,  0.3266,  2.1543],\n",
    "    [ 0.4728,  0.6399,  0.3062,  2.0597],\n",
    "    [ 0.3221,  0.5126,  0.3085,  2.6147]\n",
    "])\n",
    "y = np.array([1., 1., 0., 0., 1., 1., 1., 0., 0., 0.])\n",
    "\n",
    "# X = np.array([\n",
    "#         [0.52, 1.12,  0.77],\n",
    "#         [0.88, -1.08, 0.15],\n",
    "#         [0.52, 0.06, -1.30],\n",
    "#         [0.74, -2.49, 1.39]\n",
    "#     ])\n",
    "# y = np.array([1., 1., 0., 1.])\n",
    "\n",
    "weights = np.zeros(X.shape[1])\n",
    "eps = 1e-15"
   ]
  },
  {
   "cell_type": "code",
   "execution_count": 293,
   "metadata": {
    "collapsed": false
   },
   "outputs": [],
   "source": [
    "def wTx(w, x):\n",
    "    return np.dot(x, w)\n",
    "\n",
    "def sigmoid(z):\n",
    "    return 1./(1+np.exp(-z))\n",
    "\n",
    "def logistic_predictions(w, x):\n",
    "    predictions = sigmoid(wTx(w, x))\n",
    "    predictions = np.maximum(eps, predictions)\n",
    "    return np.minimum(predictions, 1-eps)\n",
    "\n",
    "def log_loss(w, X, y):\n",
    "    y_predicted = logistic_predictions(w, X)\n",
    "    return -(y*np.log(y_predicted) + (1-y)*np.log(1-y_predicted)).mean()\n",
    "\n",
    "gradient = grad(log_loss)\n",
    "\n",
    "def custom_loss(w, X, y):\n",
    "    y_predicted = logistic_predictions(w, X)\n",
    "    greater_than_point_2 = (y - y_predicted) > .2\n",
    "    return 10*greater_than_point_2.mean()\n",
    "\n",
    "custom_gradient = grad(custom_loss)"
   ]
  },
  {
   "cell_type": "code",
   "execution_count": 294,
   "metadata": {
    "collapsed": false
   },
   "outputs": [
    {
     "data": {
      "text/plain": [
       "0.28488997884"
      ]
     },
     "execution_count": 294,
     "metadata": {},
     "output_type": "execute_result"
    }
   ],
   "source": [
    "0.69314718056\n",
    "0.329817178388\n",
    "0.300126372862\n",
    "0.29124055573\n",
    "0.287176035922\n",
    "0.28488997884"
   ]
  },
  {
   "cell_type": "code",
   "execution_count": 295,
   "metadata": {
    "collapsed": false
   },
   "outputs": [
    {
     "name": "stdout",
     "output_type": "stream",
     "text": [
      "0.69314718056\n"
     ]
    },
    {
     "name": "stderr",
     "output_type": "stream",
     "text": [
      "/usr/local/lib/python3.4/site-packages/autograd/core.py:65: UserWarning: Output seems independent of input. Returning zero gradient.\n",
      "  warnings.warn(\"Output seems independent of input. Returning zero gradient.\")\n"
     ]
    }
   ],
   "source": [
    "for i in range(10):\n",
    "    if i % 1000 == 0:\n",
    "        print(log_loss(weights, X, y))\n",
    "    weights -= custom_gradient(weights, X, y) * .25"
   ]
  },
  {
   "cell_type": "code",
   "execution_count": 180,
   "metadata": {
    "collapsed": false
   },
   "outputs": [
    {
     "data": {
      "text/plain": [
       "[<matplotlib.lines.Line2D at 0x10aba8898>]"
      ]
     },
     "execution_count": 180,
     "metadata": {},
     "output_type": "execute_result"
    },
    {
     "data": {
      "image/png": "[encoded data removed]",
      "text/plain": [
       "<matplotlib.figure.Figure at 0x10a767978>"
      ]
     },
     "metadata": {},
     "output_type": "display_data"
    }
   ],
   "source": [
    "df = pd.DataFrame(\n",
    "    [(x, log_loss(x)) for x in np.linspace(0, 1, 101)],\n",
    "    columns=['x', 'log_loss']\n",
    ")\n",
    "plt.plot(df['x'], df['log_loss'])"
   ]
  },
  {
   "cell_type": "code",
   "execution_count": 177,
   "metadata": {
    "collapsed": false
   },
   "outputs": [
    {
     "name": "stdout",
     "output_type": "stream",
     "text": [
      "[ 0.5  0.5  0.5  0.5]\n"
     ]
    }
   ],
   "source": [
    "preds = logistic_predictions(weights, X)\n",
    "print(preds)"
   ]
  },
  {
   "cell_type": "code",
   "execution_count": 56,
   "metadata": {
    "collapsed": false
   },
   "outputs": [
    {
     "data": {
      "text/plain": [
       "[<matplotlib.lines.Line2D at 0x10a19d320>]"
      ]
     },
     "execution_count": 56,
     "metadata": {},
     "output_type": "execute_result"
    },
    {
     "data": {
      "image/png": "[encoded data removed]",
      "text/plain": [
       "<matplotlib.figure.Figure at 0x10a0bf0b8>"
      ]
     },
     "metadata": {},
     "output_type": "display_data"
    }
   ],
   "source": [
    "def loss(y, y_predicted):\n",
    "    if abs(y-y_predicted) < .2:\n",
    "        return 0\n",
    "    return 10 \n",
    "\n",
    "df = pd.DataFrame(\n",
    "    [(x, loss(True, x)) for x in np.linspace(0, 1, 101)],\n",
    "    columns=['x', 'loss']\n",
    ")\n",
    "plt.plot(df['x'], df['loss'])"
   ]
  },
  {
   "cell_type": "code",
   "execution_count": null,
   "metadata": {
    "collapsed": true
   },
   "outputs": [],
   "source": []
  }
 ],
 "metadata": {
  "kernelspec": {
   "display_name": "Python 3",
   "language": "python",
   "name": "python3"
  },
  "language_info": {
   "codemirror_mode": {
    "name": "ipython",
    "version": 3
   },
   "file_extension": ".py",
   "mimetype": "text/x-python",
   "name": "python",
   "nbconvert_exporter": "python",
   "pygments_lexer": "ipython3",
   "version": "3.4.3"
  }
 },
 "nbformat": 4,
 "nbformat_minor": 0
}
